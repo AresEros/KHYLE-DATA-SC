{
 "cells": [
  {
   "cell_type": "code",
   "execution_count": 2,
   "metadata": {},
   "outputs": [
    {
     "name": "stdout",
     "output_type": "stream",
     "text": [
      "Heidelberg\n"
     ]
    }
   ],
   "source": [
    "from random import choice\n",
    "possible_destinations = [\"Berlin\", \"Hamburg\", \"Munich\",\n",
    "                            \"Amsterdam\", \"London\", \"Paris\",\n",
    "                            \"Zurich\", \"Heidelberg\", \"Strasbourg\",\n",
    "                            \"Augsburg\", \"Milan\", \"Rome\"]\n",
    "print(choice(possible_destinations))"
   ]
  },
  {
   "cell_type": "code",
   "execution_count": 3,
   "metadata": {},
   "outputs": [
    {
     "name": "stdout",
     "output_type": "stream",
     "text": [
      "Truth\n"
     ]
    }
   ],
   "source": [
    "possible_GamePlay = [\"Truth\", \"Dare\"]\n",
    "\n",
    "print(choice(possible_GamePlay))"
   ]
  },
  {
   "cell_type": "code",
   "execution_count": 4,
   "metadata": {},
   "outputs": [
    {
     "name": "stdout",
     "output_type": "stream",
     "text": [
      "Milan\n"
     ]
    }
   ],
   "source": [
    "from numpy.random import choice\n",
    "print(choice(possible_destinations))"
   ]
  },
  {
   "cell_type": "code",
   "execution_count": 5,
   "metadata": {},
   "outputs": [
    {
     "name": "stdout",
     "output_type": "stream",
     "text": [
      "Dare\n"
     ]
    }
   ],
   "source": [
    "from numpy.random import choice\n",
    "print(choice(possible_GamePlay))"
   ]
  },
  {
   "cell_type": "code",
   "execution_count": 6,
   "metadata": {},
   "outputs": [
    {
     "name": "stdout",
     "output_type": "stream",
     "text": [
      "['Strasbourg' 'Munich' 'Berlin']\n"
     ]
    }
   ],
   "source": [
    "x1 = choice(possible_destinations, size=3)\n",
    "\n",
    "print(x1)\n"
   ]
  },
  {
   "cell_type": "code",
   "execution_count": 7,
   "metadata": {},
   "outputs": [
    {
     "name": "stdout",
     "output_type": "stream",
     "text": [
      "[['Milan' 'Berlin' 'Strasbourg' 'Zurich']\n",
      " ['Heidelberg' 'Hamburg' 'Strasbourg' 'Zurich']\n",
      " ['Paris' 'Heidelberg' 'Amsterdam' 'Augsburg']]\n"
     ]
    }
   ],
   "source": [
    "x2 = choice(possible_destinations, size=(3, 4))\n",
    "print(x2)\n"
   ]
  },
  {
   "cell_type": "code",
   "execution_count": 8,
   "metadata": {},
   "outputs": [
    {
     "name": "stdout",
     "output_type": "stream",
     "text": [
      "[['Berlin' 'Zurich' 'Strasbourg' 'Augsburg']\n",
      " ['London' 'Munich' 'Milan' 'Rome']\n",
      " ['Paris' 'Amsterdam' 'Hamburg' 'Heidelberg']]\n"
     ]
    }
   ],
   "source": [
    "print(choice(possible_destinations, size=(3, 4), replace=False))"
   ]
  },
  {
   "cell_type": "code",
   "execution_count": 12,
   "metadata": {},
   "outputs": [
    {
     "name": "stdout",
     "output_type": "stream",
     "text": [
      "truth\n"
     ]
    }
   ],
   "source": [
    "gamePlay = ['truth','dare']\n",
    "\n",
    "print(choice(gamePlay))"
   ]
  }
 ],
 "metadata": {
  "kernelspec": {
   "display_name": "env39",
   "language": "python",
   "name": "python3"
  },
  "language_info": {
   "codemirror_mode": {
    "name": "ipython",
    "version": 3
   },
   "file_extension": ".py",
   "mimetype": "text/x-python",
   "name": "python",
   "nbconvert_exporter": "python",
   "pygments_lexer": "ipython3",
   "version": "3.11.5"
  }
 },
 "nbformat": 4,
 "nbformat_minor": 2
}
