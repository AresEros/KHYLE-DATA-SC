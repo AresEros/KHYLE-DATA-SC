{
 "cells": [
  {
   "cell_type": "code",
   "execution_count": 2,
   "id": "8bb6370d",
   "metadata": {},
   "outputs": [],
   "source": [
    "import pandas as pd\n",
    "import numpy as np\n",
    "import matplotlib.pyplot as plt\n",
    "import seaborn as sns"
   ]
  },
  {
   "cell_type": "code",
   "execution_count": 6,
   "id": "521fd883",
   "metadata": {},
   "outputs": [
    {
     "data": {
      "text/html": [
       "<div>\n",
       "<style scoped>\n",
       "    .dataframe tbody tr th:only-of-type {\n",
       "        vertical-align: middle;\n",
       "    }\n",
       "\n",
       "    .dataframe tbody tr th {\n",
       "        vertical-align: top;\n",
       "    }\n",
       "\n",
       "    .dataframe thead th {\n",
       "        text-align: right;\n",
       "    }\n",
       "</style>\n",
       "<table border=\"1\" class=\"dataframe\">\n",
       "  <thead>\n",
       "    <tr style=\"text-align: right;\">\n",
       "      <th></th>\n",
       "      <th>S/N</th>\n",
       "      <th>id</th>\n",
       "      <th>timestamp</th>\n",
       "      <th>quantity</th>\n",
       "      <th>product_id</th>\n",
       "      <th>PRODUCT_NAME</th>\n",
       "      <th>unit_price</th>\n",
       "      <th>total_amount</th>\n",
       "      <th>store</th>\n",
       "      <th>payment_method</th>\n",
       "      <th>customer_id</th>\n",
       "      <th>customer_type</th>\n",
       "    </tr>\n",
       "  </thead>\n",
       "  <tbody>\n",
       "    <tr>\n",
       "      <th>0</th>\n",
       "      <td>0</td>\n",
       "      <td>47d54138-a950-4ec0-9d4a-e637e8dfb290</td>\n",
       "      <td>2022-04-28 09:11:00</td>\n",
       "      <td>10</td>\n",
       "      <td>56b274d1-b2a4-47be-abaf-6c1c7742beb9</td>\n",
       "      <td>wheat</td>\n",
       "      <td>0.39</td>\n",
       "      <td>3.90</td>\n",
       "      <td>South Billyview</td>\n",
       "      <td>cash</td>\n",
       "      <td>c2b9eddd-df8c-446a-ae34-50ad88f28e0a</td>\n",
       "      <td>non-member</td>\n",
       "    </tr>\n",
       "    <tr>\n",
       "      <th>1</th>\n",
       "      <td>1</td>\n",
       "      <td>dea298b1-26ca-4a43-bcef-4050fb74ce1d</td>\n",
       "      <td>2019-12-06 16:21:00</td>\n",
       "      <td>1</td>\n",
       "      <td>56b274d1-b2a4-47be-abaf-6c1c7742beb9</td>\n",
       "      <td>wheat</td>\n",
       "      <td>0.39</td>\n",
       "      <td>0.39</td>\n",
       "      <td>South Edward</td>\n",
       "      <td>contactless</td>\n",
       "      <td>134a3c2c-8ccc-494c-9916-a15ff10a9125</td>\n",
       "      <td>member</td>\n",
       "    </tr>\n",
       "    <tr>\n",
       "      <th>2</th>\n",
       "      <td>2</td>\n",
       "      <td>8dcd78f6-2e68-4fe3-9bb0-afe3bb2c3944</td>\n",
       "      <td>2019-06-22 15:27:00</td>\n",
       "      <td>10</td>\n",
       "      <td>56b274d1-b2a4-47be-abaf-6c1c7742beb9</td>\n",
       "      <td>wheat</td>\n",
       "      <td>0.39</td>\n",
       "      <td>3.90</td>\n",
       "      <td>South Billyview</td>\n",
       "      <td>contactless</td>\n",
       "      <td>a310b698-4e34-4a4a-8c60-e72fad63f9ba</td>\n",
       "      <td>gold</td>\n",
       "    </tr>\n",
       "    <tr>\n",
       "      <th>3</th>\n",
       "      <td>3</td>\n",
       "      <td>261c100c-b121-44b7-bc03-787f396c2061</td>\n",
       "      <td>2020-08-16 18:14:00</td>\n",
       "      <td>8</td>\n",
       "      <td>56b274d1-b2a4-47be-abaf-6c1c7742beb9</td>\n",
       "      <td>wheat</td>\n",
       "      <td>0.39</td>\n",
       "      <td>3.12</td>\n",
       "      <td>South Michaelfurt</td>\n",
       "      <td>credit card</td>\n",
       "      <td>0dfaced3-271c-4da0-80fc-fd3de4328bd5</td>\n",
       "      <td>corporate</td>\n",
       "    </tr>\n",
       "    <tr>\n",
       "      <th>4</th>\n",
       "      <td>4</td>\n",
       "      <td>7d025b4d-caac-40a5-b954-63cd7bd20f92</td>\n",
       "      <td>2019-11-12 15:46:00</td>\n",
       "      <td>1</td>\n",
       "      <td>56b274d1-b2a4-47be-abaf-6c1c7742beb9</td>\n",
       "      <td>wheat</td>\n",
       "      <td>0.39</td>\n",
       "      <td>0.39</td>\n",
       "      <td>Christopherfurt</td>\n",
       "      <td>cash</td>\n",
       "      <td>b05efb3f-c38e-4b86-8366-32e42340a4dc</td>\n",
       "      <td>gold</td>\n",
       "    </tr>\n",
       "    <tr>\n",
       "      <th>5</th>\n",
       "      <td>5</td>\n",
       "      <td>50adf65d-1917-49ef-9f8b-cddd9969d01b</td>\n",
       "      <td>2022-03-27 13:15:00</td>\n",
       "      <td>10</td>\n",
       "      <td>56b274d1-b2a4-47be-abaf-6c1c7742beb9</td>\n",
       "      <td>wheat</td>\n",
       "      <td>0.39</td>\n",
       "      <td>3.90</td>\n",
       "      <td>Erichaven</td>\n",
       "      <td>credit card</td>\n",
       "      <td>78f29877-3ed9-4c58-a81a-3f5a248800bb</td>\n",
       "      <td>staff</td>\n",
       "    </tr>\n",
       "    <tr>\n",
       "      <th>6</th>\n",
       "      <td>6</td>\n",
       "      <td>01e25123-0995-4eda-8870-b9965a03fd3d</td>\n",
       "      <td>2021-09-17 12:47:00</td>\n",
       "      <td>3</td>\n",
       "      <td>56b274d1-b2a4-47be-abaf-6c1c7742beb9</td>\n",
       "      <td>wheat</td>\n",
       "      <td>0.39</td>\n",
       "      <td>1.17</td>\n",
       "      <td>Tracyton</td>\n",
       "      <td>contactless</td>\n",
       "      <td>5b2b478e-e102-47e3-ac06-04c58e6d9c2d</td>\n",
       "      <td>staff</td>\n",
       "    </tr>\n",
       "    <tr>\n",
       "      <th>7</th>\n",
       "      <td>7</td>\n",
       "      <td>b273ec23-b75d-4656-bd7f-315238bbacba</td>\n",
       "      <td>2020-01-05 19:51:00</td>\n",
       "      <td>10</td>\n",
       "      <td>56b274d1-b2a4-47be-abaf-6c1c7742beb9</td>\n",
       "      <td>wheat</td>\n",
       "      <td>0.39</td>\n",
       "      <td>3.90</td>\n",
       "      <td>South Christineside</td>\n",
       "      <td>contactless</td>\n",
       "      <td>ffb04b72-49fa-4e9a-8a91-96db0a8596a8</td>\n",
       "      <td>staff</td>\n",
       "    </tr>\n",
       "    <tr>\n",
       "      <th>8</th>\n",
       "      <td>8</td>\n",
       "      <td>ea773393-f8d9-4192-a33a-66429e139760</td>\n",
       "      <td>2019-07-03 15:12:00</td>\n",
       "      <td>8</td>\n",
       "      <td>56b274d1-b2a4-47be-abaf-6c1c7742beb9</td>\n",
       "      <td>wheat</td>\n",
       "      <td>0.39</td>\n",
       "      <td>3.12</td>\n",
       "      <td>Meganton</td>\n",
       "      <td>debit card</td>\n",
       "      <td>11171cf2-6670-4a7e-b56c-a54a1fa24cc3</td>\n",
       "      <td>staff</td>\n",
       "    </tr>\n",
       "    <tr>\n",
       "      <th>9</th>\n",
       "      <td>9</td>\n",
       "      <td>e8602bf8-f2f1-41a6-98b3-128977093cc3</td>\n",
       "      <td>2022-05-23 09:15:00</td>\n",
       "      <td>4</td>\n",
       "      <td>56b274d1-b2a4-47be-abaf-6c1c7742beb9</td>\n",
       "      <td>wheat</td>\n",
       "      <td>0.39</td>\n",
       "      <td>1.56</td>\n",
       "      <td>South Christineside</td>\n",
       "      <td>credit card</td>\n",
       "      <td>77e5eeed-52a2-48a2-a424-75fdcd5b8270</td>\n",
       "      <td>corporate</td>\n",
       "    </tr>\n",
       "  </tbody>\n",
       "</table>\n",
       "</div>"
      ],
      "text/plain": [
       "   S/N                                    id           timestamp  quantity  \\\n",
       "0    0  47d54138-a950-4ec0-9d4a-e637e8dfb290 2022-04-28 09:11:00        10   \n",
       "1    1  dea298b1-26ca-4a43-bcef-4050fb74ce1d 2019-12-06 16:21:00         1   \n",
       "2    2  8dcd78f6-2e68-4fe3-9bb0-afe3bb2c3944 2019-06-22 15:27:00        10   \n",
       "3    3  261c100c-b121-44b7-bc03-787f396c2061 2020-08-16 18:14:00         8   \n",
       "4    4  7d025b4d-caac-40a5-b954-63cd7bd20f92 2019-11-12 15:46:00         1   \n",
       "5    5  50adf65d-1917-49ef-9f8b-cddd9969d01b 2022-03-27 13:15:00        10   \n",
       "6    6  01e25123-0995-4eda-8870-b9965a03fd3d 2021-09-17 12:47:00         3   \n",
       "7    7  b273ec23-b75d-4656-bd7f-315238bbacba 2020-01-05 19:51:00        10   \n",
       "8    8  ea773393-f8d9-4192-a33a-66429e139760 2019-07-03 15:12:00         8   \n",
       "9    9  e8602bf8-f2f1-41a6-98b3-128977093cc3 2022-05-23 09:15:00         4   \n",
       "\n",
       "                             product_id PRODUCT_NAME  unit_price  \\\n",
       "0  56b274d1-b2a4-47be-abaf-6c1c7742beb9        wheat        0.39   \n",
       "1  56b274d1-b2a4-47be-abaf-6c1c7742beb9        wheat        0.39   \n",
       "2  56b274d1-b2a4-47be-abaf-6c1c7742beb9        wheat        0.39   \n",
       "3  56b274d1-b2a4-47be-abaf-6c1c7742beb9        wheat        0.39   \n",
       "4  56b274d1-b2a4-47be-abaf-6c1c7742beb9        wheat        0.39   \n",
       "5  56b274d1-b2a4-47be-abaf-6c1c7742beb9        wheat        0.39   \n",
       "6  56b274d1-b2a4-47be-abaf-6c1c7742beb9        wheat        0.39   \n",
       "7  56b274d1-b2a4-47be-abaf-6c1c7742beb9        wheat        0.39   \n",
       "8  56b274d1-b2a4-47be-abaf-6c1c7742beb9        wheat        0.39   \n",
       "9  56b274d1-b2a4-47be-abaf-6c1c7742beb9        wheat        0.39   \n",
       "\n",
       "   total_amount                store payment_method  \\\n",
       "0          3.90      South Billyview           cash   \n",
       "1          0.39         South Edward    contactless   \n",
       "2          3.90      South Billyview    contactless   \n",
       "3          3.12    South Michaelfurt    credit card   \n",
       "4          0.39      Christopherfurt           cash   \n",
       "5          3.90            Erichaven    credit card   \n",
       "6          1.17             Tracyton    contactless   \n",
       "7          3.90  South Christineside    contactless   \n",
       "8          3.12             Meganton     debit card   \n",
       "9          1.56  South Christineside    credit card   \n",
       "\n",
       "                            customer_id customer_type  \n",
       "0  c2b9eddd-df8c-446a-ae34-50ad88f28e0a    non-member  \n",
       "1  134a3c2c-8ccc-494c-9916-a15ff10a9125        member  \n",
       "2  a310b698-4e34-4a4a-8c60-e72fad63f9ba          gold  \n",
       "3  0dfaced3-271c-4da0-80fc-fd3de4328bd5     corporate  \n",
       "4  b05efb3f-c38e-4b86-8366-32e42340a4dc          gold  \n",
       "5  78f29877-3ed9-4c58-a81a-3f5a248800bb         staff  \n",
       "6  5b2b478e-e102-47e3-ac06-04c58e6d9c2d         staff  \n",
       "7  ffb04b72-49fa-4e9a-8a91-96db0a8596a8         staff  \n",
       "8  11171cf2-6670-4a7e-b56c-a54a1fa24cc3         staff  \n",
       "9  77e5eeed-52a2-48a2-a424-75fdcd5b8270     corporate  "
      ]
     },
     "execution_count": 6,
     "metadata": {},
     "output_type": "execute_result"
    }
   ],
   "source": [
    "df=pd.read_excel(\"C:/Users/HP/KHYLE TECHCORE/KHYLE DATA SC/supermarket_transactions.xlsx\")\n",
    "df.head(10)"
   ]
  },
  {
   "cell_type": "code",
   "execution_count": 10,
   "id": "e5e54d3f",
   "metadata": {},
   "outputs": [
    {
     "data": {
      "text/plain": [
       "(50783, 12)"
      ]
     },
     "execution_count": 10,
     "metadata": {},
     "output_type": "execute_result"
    }
   ],
   "source": [
    "df.dtypes\n",
    "df.shape"
   ]
  },
  {
   "cell_type": "code",
   "execution_count": 21,
   "id": "1c7e2b47",
   "metadata": {
    "scrolled": true
   },
   "outputs": [
    {
     "name": "stdout",
     "output_type": "stream",
     "text": [
      "<class 'pandas.core.frame.DataFrame'>\n",
      "RangeIndex: 50783 entries, 0 to 50782\n",
      "Data columns (total 12 columns):\n",
      " #   Column          Non-Null Count  Dtype         \n",
      "---  ------          --------------  -----         \n",
      " 0   S/N             50783 non-null  int64         \n",
      " 1   id              50783 non-null  object        \n",
      " 2   timestamp       50783 non-null  datetime64[ns]\n",
      " 3   quantity        50783 non-null  int64         \n",
      " 4   product_id      50783 non-null  object        \n",
      " 5   PRODUCT_NAME    50783 non-null  object        \n",
      " 6   unit_price      50783 non-null  float64       \n",
      " 7   total_amount    50783 non-null  float64       \n",
      " 8   store           50783 non-null  object        \n",
      " 9   payment_method  50783 non-null  object        \n",
      " 10  customer_id     50783 non-null  object        \n",
      " 11  customer_type   50783 non-null  object        \n",
      "dtypes: datetime64[ns](1), float64(2), int64(2), object(7)\n",
      "memory usage: 4.6+ MB\n"
     ]
    }
   ],
   "source": [
    "df.info()"
   ]
  },
  {
   "cell_type": "code",
   "execution_count": 15,
   "id": "28ae4bbd",
   "metadata": {
    "scrolled": true
   },
   "outputs": [
    {
     "name": "stdout",
     "output_type": "stream",
     "text": [
      "Index(['S/N', 'id', 'timestamp', 'quantity', 'product_id', 'PRODUCT_NAME',\n",
      "       'unit_price', 'total_amount', 'store', 'payment_method', 'customer_id',\n",
      "       'customer_type'],\n",
      "      dtype='object')\n"
     ]
    }
   ],
   "source": [
    "#print(df.columns)\n",
    "#another way to view columns\n",
    "for col in df.columns:\n",
    "    print(col)\n"
   ]
  },
  {
   "cell_type": "code",
   "execution_count": 34,
   "id": "fc57deea",
   "metadata": {},
   "outputs": [],
   "source": [
    "#df = df.rename(columns={\"OldName\": \"NewName\", \"Salary\": \"Monthly_Salary\"}) #renaming a column\n",
    "#df.columns = [\"ID\", \"Full_Name\", \"Age\", \"Department\", \"Monthly_Salary\"] #change all columns at once\n",
    "#df = df.drop(columns=[\"Age\"])   # removes Age column\n",
    "#df[\"Bonus\"] = df[\"Monthly_Salary\"] * 0.1   # 10% bonus\n",
    "#df[\"Full_Name\"] = df[\"Full_Name\"].str.upper()   # convert names to uppercase\n",
    "\n",
    "df=df.drop(columns=[\"ID\",\"id\"])\n",
    "\n",
    "'''rename_dict = {\n",
    "    'S/N': 'ID',\n",
    "    'timestamp': 'Time Stamp',\n",
    "    'quantity': 'Quantity',\n",
    "    'product_id': 'Product ID',\n",
    "    'PRODUCT_NAME': 'Product Name',\n",
    "    'unit_price': 'Unit Price',\n",
    "    'total_amount': 'Total Amount',\n",
    "    'store': 'Store',\n",
    "    'payment_method': 'Payment Method',\n",
    "    'customer_id': 'Customer ID',\n",
    "    'customer_type': 'Customer Type'\n",
    "}'''\n"
   ]
  },
  {
   "cell_type": "code",
   "execution_count": 37,
   "id": "d558734f",
   "metadata": {},
   "outputs": [
    {
     "name": "stdout",
     "output_type": "stream",
     "text": [
      "['Time Stamp', 'Quantity', 'Product ID', 'Product Name', 'Unit Price', 'Total Amount', 'Store', 'Payment Method', 'Customer ID', 'Customer Type']\n"
     ]
    },
    {
     "data": {
      "text/plain": [
       "(50783, 10)"
      ]
     },
     "execution_count": 37,
     "metadata": {},
     "output_type": "execute_result"
    }
   ],
   "source": [
    "print(df.columns.tolist())\n",
    "df.shape"
   ]
  },
  {
   "cell_type": "code",
   "execution_count": 51,
   "id": "88c6f66a",
   "metadata": {},
   "outputs": [
    {
     "name": "stdout",
     "output_type": "stream",
     "text": [
      "<class 'NoneType'>\n"
     ]
    }
   ],
   "source": [
    "print(type(df))\n"
   ]
  }
 ],
 "metadata": {
  "kernelspec": {
   "display_name": "Python 3 (ipykernel)",
   "language": "python",
   "name": "python3"
  },
  "language_info": {
   "codemirror_mode": {
    "name": "ipython",
    "version": 3
   },
   "file_extension": ".py",
   "mimetype": "text/x-python",
   "name": "python",
   "nbconvert_exporter": "python",
   "pygments_lexer": "ipython3",
   "version": "3.11.5"
  }
 },
 "nbformat": 4,
 "nbformat_minor": 5
}
